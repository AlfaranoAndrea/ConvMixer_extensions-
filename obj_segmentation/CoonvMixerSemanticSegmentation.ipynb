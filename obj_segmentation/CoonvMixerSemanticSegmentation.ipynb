{
 "cells": [
  {
   "cell_type": "code",
   "execution_count": 1,
   "id": "a028037a",
   "metadata": {},
   "outputs": [
    {
     "name": "stderr",
     "output_type": "stream",
     "text": [
      "/home/fi/.local/lib/python3.8/site-packages/torchvision/io/image.py:13: UserWarning: Failed to load image Python extension: /home/fi/.local/lib/python3.8/site-packages/torchvision/image.so: undefined symbol: _ZNK3c1010TensorImpl36is_contiguous_nondefault_policy_implENS_12MemoryFormatE\n",
      "  warn(f\"Failed to load image Python extension: {e}\")\n"
     ]
    }
   ],
   "source": [
    "from matplotlib import pyplot as plt\n",
    "\n",
    "import numpy as np\n",
    "import torch\n",
    "import torch.nn as nn\n",
    "import tensorboard \n",
    "\n",
    "from pytorch_lightning import seed_everything, LightningModule, Trainer\n",
    "import multiprocessing\n",
    "import torchmetrics\n",
    "\n",
    "from torch.utils.data import DataLoader, Dataset\n",
    "from utils import encode_segmap , decode_segmap, get_nClasses\n",
    "\n",
    "import pytorch_lightning as pl\n",
    "from pytorch_lightning.strategies import DDPStrategy\n",
    "from pytorch_lightning.callbacks import ModelCheckpoint\n",
    "from pytorch_lightning.callbacks import EarlyStopping,ModelCheckpoint,LearningRateMonitor\n",
    "from pytorch_lightning.loggers import TensorBoardLogger\n",
    "\n",
    "import albumentations as A\n",
    "from albumentations.pytorch import ToTensorV2\n",
    "\n",
    "\n",
    "import json\n",
    "from dataset import CityscapesDataset\n",
    "from segmentationModel import SemanticSegmentationModel\n"
   ]
  },
  {
   "cell_type": "code",
   "execution_count": 2,
   "id": "e7b92e77",
   "metadata": {},
   "outputs": [],
   "source": [
    "parameter = json.load(open(\"config.json\"))"
   ]
  },
  {
   "cell_type": "markdown",
   "id": "2f13ef21",
   "metadata": {},
   "source": [
    "## training "
   ]
  },
  {
   "cell_type": "code",
   "execution_count": 3,
   "id": "434fb97c",
   "metadata": {},
   "outputs": [
    {
     "name": "stderr",
     "output_type": "stream",
     "text": [
      "GPU available: True, used: True\n",
      "TPU available: False, using: 0 TPU cores\n",
      "IPU available: False, using: 0 IPUs\n",
      "HPU available: False, using: 0 HPUs\n",
      "LOCAL_RANK: 0 - CUDA_VISIBLE_DEVICES: [0,1]\n",
      "\n",
      "  | Name      | Type          | Params\n",
      "--------------------------------------------\n",
      "0 | layer     | ConvMixerUnet | 23.4 M\n",
      "1 | criterion | DiceLoss      | 0     \n",
      "2 | metrics   | JaccardIndex  | 0     \n",
      "--------------------------------------------\n",
      "23.4 M    Trainable params\n",
      "0         Non-trainable params\n",
      "23.4 M    Total params\n",
      "93.633    Total estimated model params size (MB)\n"
     ]
    },
    {
     "data": {
      "application/vnd.jupyter.widget-view+json": {
       "model_id": "ee55e35213c44e18bdde81c6ec3f2289",
       "version_major": 2,
       "version_minor": 0
      },
      "text/plain": [
       "Sanity Checking: 0it [00:00, ?it/s]"
      ]
     },
     "metadata": {},
     "output_type": "display_data"
    },
    {
     "data": {
      "application/vnd.jupyter.widget-view+json": {
       "model_id": "b37f969f1e6544009266d2150a6b05b1",
       "version_major": 2,
       "version_minor": 0
      },
      "text/plain": [
       "Training: 0it [00:00, ?it/s]"
      ]
     },
     "metadata": {},
     "output_type": "display_data"
    },
    {
     "name": "stderr",
     "output_type": "stream",
     "text": [
      "/home/fi/.local/lib/python3.8/site-packages/pytorch_lightning/trainer/trainer.py:726: UserWarning: Detected KeyboardInterrupt, attempting graceful shutdown...\n",
      "  rank_zero_warn(\"Detected KeyboardInterrupt, attempting graceful shutdown...\")\n"
     ]
    }
   ],
   "source": [
    "model  = SemanticSegmentationModel(architecture=\"ConvMixer\")\n",
    "checkpoint_callback = ModelCheckpoint(monitor='val_loss',dirpath='checkpoints',\n",
    "                                          filename='file',save_last=True, every_n_epochs=1, save_top_k=5)\n",
    "logger = TensorBoardLogger(\"tb_logs\", name=\"my_model\")\n",
    "lr_monitor = LearningRateMonitor(logging_interval='epoch')\n",
    "# trainer = pl.Trainer(max_epochs=30, auto_lr_find=False, auto_scale_batch_size=False,\n",
    "#                    gpus='0',precision=16,\n",
    "#                    callbacks=[checkpoint_callback, lr_monitor], \n",
    "#                    logger=logger\n",
    "#                   )\n",
    "trainer = pl.Trainer(gpus=1, max_epochs=parameter[\"epochs\"], callbacks=[lr_monitor])\n",
    "trainer.fit(model )"
   ]
  },
  {
   "cell_type": "markdown",
   "id": "a7f3641f-e122-4d19-9a3d-19ab86045d8e",
   "metadata": {},
   "source": [
    "## Testing"
   ]
  },
  {
   "cell_type": "code",
   "execution_count": null,
   "id": "697ec911",
   "metadata": {},
   "outputs": [],
   "source": [
    "model  = SemanticSegmentationModel()\n",
    "model.load_from_checkpoint(\"checkpoints/best.ckpt\")"
   ]
  },
  {
   "cell_type": "code",
   "execution_count": null,
   "id": "98b2c60e-f2ba-430a-9756-370f37ddcb3a",
   "metadata": {},
   "outputs": [],
   "source": [
    "test_class = CityscapesDataset('./data/', split='val', mode='fine',\n",
    "                     target_type='semantic',transforms=model.transform)\n",
    "test_loader=DataLoader(test_class, batch_size=12, \n",
    "                      shuffle=False)"
   ]
  },
  {
   "cell_type": "code",
   "execution_count": null,
   "id": "315d6393-547d-4613-b248-3529a49efba2",
   "metadata": {},
   "outputs": [],
   "source": [
    "transform=A.Compose(\n",
    "[\n",
    "    A.Resize(256, 512),\n",
    "    A.HorizontalFlip(),\n",
    "    A.Normalize(mean=(0.485, 0.456, 0.406), std=(0.229, 0.224, 0.225)),\n",
    "    ToTensorV2(),\n",
    "]\n",
    ")"
   ]
  },
  {
   "cell_type": "code",
   "execution_count": null,
   "id": "5cf8b2a4-8dbc-43f3-9c1e-43c4d166f2dc",
   "metadata": {},
   "outputs": [],
   "source": [
    "trainer.test(model)"
   ]
  },
  {
   "cell_type": "code",
   "execution_count": null,
   "id": "33e60336",
   "metadata": {},
   "outputs": [],
   "source": [
    "model=model.cuda()\n",
    "model.eval()\n",
    "with torch.no_grad():\n",
    "    for batch in test_loader:\n",
    "        img,seg=batch\n",
    "        output=model(img.cuda())\n",
    "        break\n",
    "print(img.shape,seg.shape,output.shape)    "
   ]
  },
  {
   "cell_type": "code",
   "execution_count": null,
   "id": "436277f6",
   "metadata": {},
   "outputs": [],
   "source": [
    "from torchvision import transforms\n",
    "inv_normalize = transforms.Normalize(\n",
    "    mean=[-0.485/0.229, -0.456/0.224, -0.406/0.225],\n",
    "    std=[1/0.229, 1/0.224, 1/0.255]\n",
    ")\n"
   ]
  },
  {
   "cell_type": "code",
   "execution_count": null,
   "id": "0531c198",
   "metadata": {},
   "outputs": [],
   "source": [
    "sample=11\n",
    "invimg=inv_normalize(img[sample])\n",
    "outputx=output.detach().cpu()[sample]\n",
    "encoded_mask=encode_segmap(seg[sample].clone()) #(256, 512)\n",
    "decoded_mask=decode_segmap(encoded_mask.clone())  #(256, 512)\n",
    "decoded_ouput=decode_segmap(torch.argmax(outputx,0))\n",
    "fig,ax=plt.subplots(ncols=3,figsize=(16,50),facecolor='white')  \n",
    "ax[0].imshow(np.moveaxis(invimg.numpy(),0,2)) #(3,256, 512)\n",
    "#ax[1].imshow(encoded_mask,cmap='gray') #(256, 512)\n",
    "ax[1].imshow(decoded_mask) #(256, 512, 3)\n",
    "ax[2].imshow(decoded_ouput) #(256, 512, 3)\n",
    "ax[0].axis('off')\n",
    "ax[1].axis('off')\n",
    "ax[2].axis('off')\n",
    "ax[0].set_title('Input Image')\n",
    "ax[1].set_title('Ground mask')\n",
    "ax[2].set_title('Predicted mask')\n",
    "plt.savefig('result.png',bbox_inches='tight')"
   ]
  }
 ],
 "metadata": {
  "kernelspec": {
   "display_name": "Python 3 (ipykernel)",
   "language": "python",
   "name": "python3"
  },
  "language_info": {
   "codemirror_mode": {
    "name": "ipython",
    "version": 3
   },
   "file_extension": ".py",
   "mimetype": "text/x-python",
   "name": "python",
   "nbconvert_exporter": "python",
   "pygments_lexer": "ipython3",
   "version": "3.8.10 (default, Nov 14 2022, 12:59:47) \n[GCC 9.4.0]"
  },
  "vscode": {
   "interpreter": {
    "hash": "e7370f93d1d0cde622a1f8e1c04877d8463912d04d973331ad4851f04de6915a"
   }
  }
 },
 "nbformat": 4,
 "nbformat_minor": 5
}
